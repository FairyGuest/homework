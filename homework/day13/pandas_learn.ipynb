{
 "cells": [
  {
   "cell_type": "code",
   "id": "initial_id",
   "metadata": {
    "collapsed": true,
    "ExecuteTime": {
     "end_time": "2025-01-08T12:17:16.597723Z",
     "start_time": "2025-01-08T12:17:15.541079Z"
    }
   },
   "source": [
    "# 1、练习groupby\n",
    "# 2、练习merge\n",
    "# 3、练习重复值处理\n",
    "import numpy as np\n",
    "import pandas as pd"
   ],
   "outputs": [],
   "execution_count": 1
  },
  {
   "metadata": {
    "ExecuteTime": {
     "end_time": "2025-01-08T12:28:03.256388Z",
     "start_time": "2025-01-08T12:28:03.220091Z"
    }
   },
   "cell_type": "code",
   "source": [
    "# 第一题\n",
    "dict_obj = {'key1' : ['a', 'b', 'a', 'b',\n",
    "                      'a', 'b', 'a', 'a'],\n",
    "            'key2' : ['one', 'one', 'two', 'three',\n",
    "                      'two', 'two', 'one', 'three'],\n",
    "            'data1': np.random.randint(1, 10, 8),\n",
    "            'data2': np.random.randint(1, 10, 8)}\n",
    "\n",
    "df_obj = pd.DataFrame(dict_obj)\n",
    "print(df_obj)\n",
    "print(df_obj.info())\n",
    "\n",
    "# groupby有点像SQL语句\n",
    "k1_sum = df_obj.groupby('key1').mean(numeric_only=True).add_prefix('mean_')  # 按照key1分组\n",
    "print(k1_sum)\n",
    "\n",
    "k1_sum_tf = df_obj.loc[:,['key1','data1','data2']].groupby('key1').transform('mean').add_prefix('mean_')\n",
    "print(k1_sum_tf)  # transform可以使分组计算后的尺寸与之前一致\n",
    "\n",
    "def diff_mean(s):\n",
    "    \"\"\"\n",
    "    返回数据与均值的差值，s传入的是某一分组\n",
    "    :param s: \n",
    "    :return: \n",
    "    \"\"\"\n",
    "    return s-s.mean()\n",
    "\n",
    "print(df_obj.groupby('key1').transform(diff_mean))\n"
   ],
   "id": "2f3a2be5b28df97f",
   "outputs": [
    {
     "name": "stdout",
     "output_type": "stream",
     "text": [
      "  key1   key2  data1  data2\n",
      "0    a    one      2      6\n",
      "1    b    one      9      7\n",
      "2    a    two      1      7\n",
      "3    b  three      1      7\n",
      "4    a    two      7      7\n",
      "5    b    two      9      4\n",
      "6    a    one      2      9\n",
      "7    a  three      1      6\n",
      "<class 'pandas.core.frame.DataFrame'>\n",
      "RangeIndex: 8 entries, 0 to 7\n",
      "Data columns (total 4 columns):\n",
      " #   Column  Non-Null Count  Dtype \n",
      "---  ------  --------------  ----- \n",
      " 0   key1    8 non-null      object\n",
      " 1   key2    8 non-null      object\n",
      " 2   data1   8 non-null      int32 \n",
      " 3   data2   8 non-null      int32 \n",
      "dtypes: int32(2), object(2)\n",
      "memory usage: 320.0+ bytes\n",
      "None\n",
      "      mean_data1  mean_data2\n",
      "key1                        \n",
      "a       2.600000         7.0\n",
      "b       6.333333         6.0\n",
      "   mean_data1  mean_data2\n",
      "0    2.600000         7.0\n",
      "1    6.333333         6.0\n",
      "2    2.600000         7.0\n",
      "3    6.333333         6.0\n",
      "4    2.600000         7.0\n",
      "5    6.333333         6.0\n",
      "6    2.600000         7.0\n",
      "7    2.600000         7.0\n",
      "      data1  data2\n",
      "0 -0.600000   -1.0\n",
      "1  2.666667    1.0\n",
      "2 -1.600000    0.0\n",
      "3 -5.333333    1.0\n",
      "4  4.400000    0.0\n",
      "5  2.666667   -2.0\n",
      "6 -0.600000    2.0\n",
      "7 -1.600000   -1.0\n"
     ]
    },
    {
     "name": "stderr",
     "output_type": "stream",
     "text": [
      "C:\\Users\\Administrator\\AppData\\Local\\Temp\\ipykernel_19704\\1853144551.py:27: FutureWarning: Dropping invalid columns in DataFrameGroupBy.transform is deprecated. In a future version, a TypeError will be raised. Before calling .transform, select only columns which should be valid for the function.\n",
      "  print(df_obj.groupby('key1').transform(diff_mean))\n"
     ]
    }
   ],
   "execution_count": 6
  },
  {
   "metadata": {
    "ExecuteTime": {
     "end_time": "2025-01-08T12:47:35.808903Z",
     "start_time": "2025-01-08T12:47:35.791908Z"
    }
   },
   "cell_type": "code",
   "source": [
    "# 第二题\n",
    "df_obj1 = pd.DataFrame({'key': ['b', 'b', 'a', 'c', 'a', 'a', 'b'],\n",
    "                        'data1' : np.random.randint(0,10,7)})\n",
    "df_obj2 = pd.DataFrame({'key': ['a', 'b' ,'d'],\n",
    "                        'data2' : np.random.randint(0,10,3)})\n",
    "\n",
    "print(df_obj1)\n",
    "print(df_obj2)\n",
    "print(pd.merge(df_obj1,df_obj2))  # 默认为inner--只保留二者都有的\n",
    "print('-'*50)\n",
    "print(pd.merge(df_obj1,df_obj2,on='key'))\n",
    "df_obj1 = df_obj1.rename(columns={'key':'key1'})\n",
    "df_obj2 = df_obj2.rename(columns={'key':'key2'})\n",
    "print(pd.merge(df_obj1,df_obj2,left_on='key1',right_on='key2'))  # 分为了两个表"
   ],
   "id": "1282f16a97c56260",
   "outputs": [
    {
     "name": "stdout",
     "output_type": "stream",
     "text": [
      "  key  data1\n",
      "0   b      4\n",
      "1   b      5\n",
      "2   a      9\n",
      "3   c      4\n",
      "4   a      6\n",
      "5   a      1\n",
      "6   b      0\n",
      "  key  data2\n",
      "0   a      9\n",
      "1   b      8\n",
      "2   d      9\n",
      "  key  data1  data2\n",
      "0   b      4      8\n",
      "1   b      5      8\n",
      "2   b      0      8\n",
      "3   a      9      9\n",
      "4   a      6      9\n",
      "5   a      1      9\n",
      "--------------------------------------------------\n",
      "  key  data1  data2\n",
      "0   b      4      8\n",
      "1   b      5      8\n",
      "2   b      0      8\n",
      "3   a      9      9\n",
      "4   a      6      9\n",
      "5   a      1      9\n",
      "  key1  data1 key2  data2\n",
      "0    b      4    b      8\n",
      "1    b      5    b      8\n",
      "2    b      0    b      8\n",
      "3    a      9    a      9\n",
      "4    a      6    a      9\n",
      "5    a      1    a      9\n"
     ]
    }
   ],
   "execution_count": 10
  },
  {
   "metadata": {
    "ExecuteTime": {
     "end_time": "2025-01-08T12:49:07.528365Z",
     "start_time": "2025-01-08T12:49:07.505692Z"
    }
   },
   "cell_type": "code",
   "source": "pd.merge(df_obj1,df_obj2,left_on='key1',right_on='key2',how='outer')  # 全拼起来，缺值填NaN",
   "id": "2be9f61ff259dabf",
   "outputs": [
    {
     "data": {
      "text/plain": [
       "  key1  data1 key2  data2\n",
       "0    b    4.0    b    8.0\n",
       "1    b    5.0    b    8.0\n",
       "2    b    0.0    b    8.0\n",
       "3    a    9.0    a    9.0\n",
       "4    a    6.0    a    9.0\n",
       "5    a    1.0    a    9.0\n",
       "6    c    4.0  NaN    NaN\n",
       "7  NaN    NaN    d    9.0"
      ],
      "text/html": [
       "<div>\n",
       "<style scoped>\n",
       "    .dataframe tbody tr th:only-of-type {\n",
       "        vertical-align: middle;\n",
       "    }\n",
       "\n",
       "    .dataframe tbody tr th {\n",
       "        vertical-align: top;\n",
       "    }\n",
       "\n",
       "    .dataframe thead th {\n",
       "        text-align: right;\n",
       "    }\n",
       "</style>\n",
       "<table border=\"1\" class=\"dataframe\">\n",
       "  <thead>\n",
       "    <tr style=\"text-align: right;\">\n",
       "      <th></th>\n",
       "      <th>key1</th>\n",
       "      <th>data1</th>\n",
       "      <th>key2</th>\n",
       "      <th>data2</th>\n",
       "    </tr>\n",
       "  </thead>\n",
       "  <tbody>\n",
       "    <tr>\n",
       "      <th>0</th>\n",
       "      <td>b</td>\n",
       "      <td>4.0</td>\n",
       "      <td>b</td>\n",
       "      <td>8.0</td>\n",
       "    </tr>\n",
       "    <tr>\n",
       "      <th>1</th>\n",
       "      <td>b</td>\n",
       "      <td>5.0</td>\n",
       "      <td>b</td>\n",
       "      <td>8.0</td>\n",
       "    </tr>\n",
       "    <tr>\n",
       "      <th>2</th>\n",
       "      <td>b</td>\n",
       "      <td>0.0</td>\n",
       "      <td>b</td>\n",
       "      <td>8.0</td>\n",
       "    </tr>\n",
       "    <tr>\n",
       "      <th>3</th>\n",
       "      <td>a</td>\n",
       "      <td>9.0</td>\n",
       "      <td>a</td>\n",
       "      <td>9.0</td>\n",
       "    </tr>\n",
       "    <tr>\n",
       "      <th>4</th>\n",
       "      <td>a</td>\n",
       "      <td>6.0</td>\n",
       "      <td>a</td>\n",
       "      <td>9.0</td>\n",
       "    </tr>\n",
       "    <tr>\n",
       "      <th>5</th>\n",
       "      <td>a</td>\n",
       "      <td>1.0</td>\n",
       "      <td>a</td>\n",
       "      <td>9.0</td>\n",
       "    </tr>\n",
       "    <tr>\n",
       "      <th>6</th>\n",
       "      <td>c</td>\n",
       "      <td>4.0</td>\n",
       "      <td>NaN</td>\n",
       "      <td>NaN</td>\n",
       "    </tr>\n",
       "    <tr>\n",
       "      <th>7</th>\n",
       "      <td>NaN</td>\n",
       "      <td>NaN</td>\n",
       "      <td>d</td>\n",
       "      <td>9.0</td>\n",
       "    </tr>\n",
       "  </tbody>\n",
       "</table>\n",
       "</div>"
      ]
     },
     "execution_count": 12,
     "metadata": {},
     "output_type": "execute_result"
    }
   ],
   "execution_count": 12
  },
  {
   "metadata": {
    "ExecuteTime": {
     "end_time": "2025-01-08T12:50:26.688424Z",
     "start_time": "2025-01-08T12:50:26.665659Z"
    }
   },
   "cell_type": "code",
   "source": "pd.merge(df_obj1,df_obj2,left_on='key1',right_on='key2',how='left')  # 按照左表拼",
   "id": "28e2208c8804df39",
   "outputs": [
    {
     "data": {
      "text/plain": [
       "  key1  data1 key2  data2\n",
       "0    b      4    b    8.0\n",
       "1    b      5    b    8.0\n",
       "2    a      9    a    9.0\n",
       "3    c      4  NaN    NaN\n",
       "4    a      6    a    9.0\n",
       "5    a      1    a    9.0\n",
       "6    b      0    b    8.0"
      ],
      "text/html": [
       "<div>\n",
       "<style scoped>\n",
       "    .dataframe tbody tr th:only-of-type {\n",
       "        vertical-align: middle;\n",
       "    }\n",
       "\n",
       "    .dataframe tbody tr th {\n",
       "        vertical-align: top;\n",
       "    }\n",
       "\n",
       "    .dataframe thead th {\n",
       "        text-align: right;\n",
       "    }\n",
       "</style>\n",
       "<table border=\"1\" class=\"dataframe\">\n",
       "  <thead>\n",
       "    <tr style=\"text-align: right;\">\n",
       "      <th></th>\n",
       "      <th>key1</th>\n",
       "      <th>data1</th>\n",
       "      <th>key2</th>\n",
       "      <th>data2</th>\n",
       "    </tr>\n",
       "  </thead>\n",
       "  <tbody>\n",
       "    <tr>\n",
       "      <th>0</th>\n",
       "      <td>b</td>\n",
       "      <td>4</td>\n",
       "      <td>b</td>\n",
       "      <td>8.0</td>\n",
       "    </tr>\n",
       "    <tr>\n",
       "      <th>1</th>\n",
       "      <td>b</td>\n",
       "      <td>5</td>\n",
       "      <td>b</td>\n",
       "      <td>8.0</td>\n",
       "    </tr>\n",
       "    <tr>\n",
       "      <th>2</th>\n",
       "      <td>a</td>\n",
       "      <td>9</td>\n",
       "      <td>a</td>\n",
       "      <td>9.0</td>\n",
       "    </tr>\n",
       "    <tr>\n",
       "      <th>3</th>\n",
       "      <td>c</td>\n",
       "      <td>4</td>\n",
       "      <td>NaN</td>\n",
       "      <td>NaN</td>\n",
       "    </tr>\n",
       "    <tr>\n",
       "      <th>4</th>\n",
       "      <td>a</td>\n",
       "      <td>6</td>\n",
       "      <td>a</td>\n",
       "      <td>9.0</td>\n",
       "    </tr>\n",
       "    <tr>\n",
       "      <th>5</th>\n",
       "      <td>a</td>\n",
       "      <td>1</td>\n",
       "      <td>a</td>\n",
       "      <td>9.0</td>\n",
       "    </tr>\n",
       "    <tr>\n",
       "      <th>6</th>\n",
       "      <td>b</td>\n",
       "      <td>0</td>\n",
       "      <td>b</td>\n",
       "      <td>8.0</td>\n",
       "    </tr>\n",
       "  </tbody>\n",
       "</table>\n",
       "</div>"
      ]
     },
     "execution_count": 13,
     "metadata": {},
     "output_type": "execute_result"
    }
   ],
   "execution_count": 13
  },
  {
   "metadata": {
    "ExecuteTime": {
     "end_time": "2025-01-08T12:55:08.206361Z",
     "start_time": "2025-01-08T12:55:08.187009Z"
    }
   },
   "cell_type": "code",
   "source": [
    "# 第三题\n",
    "df_obj = pd.DataFrame({'data1' : ['a'] * 4 + ['b'] * 4,\n",
    "                       'data2' : np.random.randint(0, 4, 8)})\n",
    "print(df_obj)"
   ],
   "id": "ff67eb0883bf64df",
   "outputs": [
    {
     "name": "stdout",
     "output_type": "stream",
     "text": [
      "  data1  data2\n",
      "0     a      2\n",
      "1     a      2\n",
      "2     a      3\n",
      "3     a      0\n",
      "4     b      2\n",
      "5     b      0\n",
      "6     b      2\n",
      "7     b      0\n"
     ]
    }
   ],
   "execution_count": 17
  },
  {
   "metadata": {
    "ExecuteTime": {
     "end_time": "2025-01-08T12:55:23.080773Z",
     "start_time": "2025-01-08T12:55:23.063777Z"
    }
   },
   "cell_type": "code",
   "source": "print(df_obj.duplicated())",
   "id": "f4a1efb3ea733aa0",
   "outputs": [
    {
     "name": "stdout",
     "output_type": "stream",
     "text": [
      "0    False\n",
      "1     True\n",
      "2    False\n",
      "3    False\n",
      "4    False\n",
      "5    False\n",
      "6     True\n",
      "7     True\n",
      "dtype: bool\n"
     ]
    }
   ],
   "execution_count": 18
  },
  {
   "metadata": {
    "ExecuteTime": {
     "end_time": "2025-01-08T12:55:47.910496Z",
     "start_time": "2025-01-08T12:55:47.903498Z"
    }
   },
   "cell_type": "code",
   "source": "df_obj[~df_obj.duplicated()]",
   "id": "e78c93dc135d8d3e",
   "outputs": [
    {
     "data": {
      "text/plain": [
       "  data1  data2\n",
       "0     a      2\n",
       "2     a      3\n",
       "3     a      0\n",
       "4     b      2\n",
       "5     b      0"
      ],
      "text/html": [
       "<div>\n",
       "<style scoped>\n",
       "    .dataframe tbody tr th:only-of-type {\n",
       "        vertical-align: middle;\n",
       "    }\n",
       "\n",
       "    .dataframe tbody tr th {\n",
       "        vertical-align: top;\n",
       "    }\n",
       "\n",
       "    .dataframe thead th {\n",
       "        text-align: right;\n",
       "    }\n",
       "</style>\n",
       "<table border=\"1\" class=\"dataframe\">\n",
       "  <thead>\n",
       "    <tr style=\"text-align: right;\">\n",
       "      <th></th>\n",
       "      <th>data1</th>\n",
       "      <th>data2</th>\n",
       "    </tr>\n",
       "  </thead>\n",
       "  <tbody>\n",
       "    <tr>\n",
       "      <th>0</th>\n",
       "      <td>a</td>\n",
       "      <td>2</td>\n",
       "    </tr>\n",
       "    <tr>\n",
       "      <th>2</th>\n",
       "      <td>a</td>\n",
       "      <td>3</td>\n",
       "    </tr>\n",
       "    <tr>\n",
       "      <th>3</th>\n",
       "      <td>a</td>\n",
       "      <td>0</td>\n",
       "    </tr>\n",
       "    <tr>\n",
       "      <th>4</th>\n",
       "      <td>b</td>\n",
       "      <td>2</td>\n",
       "    </tr>\n",
       "    <tr>\n",
       "      <th>5</th>\n",
       "      <td>b</td>\n",
       "      <td>0</td>\n",
       "    </tr>\n",
       "  </tbody>\n",
       "</table>\n",
       "</div>"
      ]
     },
     "execution_count": 19,
     "metadata": {},
     "output_type": "execute_result"
    }
   ],
   "execution_count": 19
  },
  {
   "metadata": {
    "ExecuteTime": {
     "end_time": "2025-01-08T12:56:11.865558Z",
     "start_time": "2025-01-08T12:56:11.853558Z"
    }
   },
   "cell_type": "code",
   "source": "print(df_obj.duplicated('data2'))",
   "id": "b661cc6d796e3d78",
   "outputs": [
    {
     "name": "stdout",
     "output_type": "stream",
     "text": [
      "0    False\n",
      "1     True\n",
      "2    False\n",
      "3    False\n",
      "4     True\n",
      "5     True\n",
      "6     True\n",
      "7     True\n",
      "dtype: bool\n"
     ]
    }
   ],
   "execution_count": 20
  },
  {
   "metadata": {
    "ExecuteTime": {
     "end_time": "2025-01-08T12:57:39.587621Z",
     "start_time": "2025-01-08T12:57:39.571978Z"
    }
   },
   "cell_type": "code",
   "source": [
    "df_obj1 = pd.DataFrame({'data1' :[np.nan] * 4,\n",
    "                       'data2' :list('1235')})\n",
    "print(df_obj1.duplicated('data1'))  # pd中认为nan相同"
   ],
   "id": "5a37a09187effb57",
   "outputs": [
    {
     "name": "stdout",
     "output_type": "stream",
     "text": [
      "0    False\n",
      "1     True\n",
      "2     True\n",
      "3     True\n",
      "dtype: bool\n"
     ]
    }
   ],
   "execution_count": 22
  },
  {
   "metadata": {
    "ExecuteTime": {
     "end_time": "2025-01-08T12:58:25.458012Z",
     "start_time": "2025-01-08T12:58:25.441012Z"
    }
   },
   "cell_type": "code",
   "source": "print(df_obj.drop_duplicates())",
   "id": "dc4e382825b542cd",
   "outputs": [
    {
     "name": "stdout",
     "output_type": "stream",
     "text": [
      "  data1  data2\n",
      "0     a      2\n",
      "2     a      3\n",
      "3     a      0\n",
      "4     b      2\n",
      "5     b      0\n"
     ]
    }
   ],
   "execution_count": 23
  },
  {
   "metadata": {
    "ExecuteTime": {
     "end_time": "2025-01-08T12:58:56.683304Z",
     "start_time": "2025-01-08T12:58:56.665306Z"
    }
   },
   "cell_type": "code",
   "source": [
    "ser_obj = pd.Series(np.random.randint(0,10,10))  #series 用map\n",
    "print(ser_obj)\n",
    "\n",
    "print(ser_obj.map(lambda x : x ** 2))"
   ],
   "id": "17daa3dcf963d9c0",
   "outputs": [
    {
     "name": "stdout",
     "output_type": "stream",
     "text": [
      "0    7\n",
      "1    2\n",
      "2    7\n",
      "3    9\n",
      "4    5\n",
      "5    7\n",
      "6    9\n",
      "7    1\n",
      "8    4\n",
      "9    4\n",
      "dtype: int32\n",
      "0    49\n",
      "1     4\n",
      "2    49\n",
      "3    81\n",
      "4    25\n",
      "5    49\n",
      "6    81\n",
      "7     1\n",
      "8    16\n",
      "9    16\n",
      "dtype: int64\n"
     ]
    }
   ],
   "execution_count": 24
  },
  {
   "metadata": {
    "ExecuteTime": {
     "end_time": "2025-01-08T12:59:41.226089Z",
     "start_time": "2025-01-08T12:59:41.207092Z"
    }
   },
   "cell_type": "code",
   "source": [
    "#异常值手动替换\n",
    "ser_obj=pd.Series(np.arange(10),index=range(3,13))\n",
    "# 单个值替换单个值\n",
    "print(ser_obj.replace(1, -100))  # 把1换成-100\n",
    "print('-' * 20)\n",
    "# 多个值替换一个值\n",
    "print(ser_obj.replace(range(6,9), -100))\n",
    "print('-' * 20)\n",
    "# 多个值替换多个值\n",
    "print(ser_obj.replace([4, 7], [-100, -200]))  # 4->-100, 7->-200"
   ],
   "id": "88a5b85687147d3c",
   "outputs": [
    {
     "name": "stdout",
     "output_type": "stream",
     "text": [
      "3       0\n",
      "4    -100\n",
      "5       2\n",
      "6       3\n",
      "7       4\n",
      "8       5\n",
      "9       6\n",
      "10      7\n",
      "11      8\n",
      "12      9\n",
      "dtype: int32\n",
      "--------------------\n",
      "3       0\n",
      "4       1\n",
      "5       2\n",
      "6       3\n",
      "7       4\n",
      "8       5\n",
      "9    -100\n",
      "10   -100\n",
      "11   -100\n",
      "12      9\n",
      "dtype: int32\n",
      "--------------------\n",
      "3       0\n",
      "4       1\n",
      "5       2\n",
      "6       3\n",
      "7    -100\n",
      "8       5\n",
      "9       6\n",
      "10   -200\n",
      "11      8\n",
      "12      9\n",
      "dtype: int32\n"
     ]
    }
   ],
   "execution_count": 25
  },
  {
   "metadata": {
    "ExecuteTime": {
     "end_time": "2025-01-08T13:01:57.903884Z",
     "start_time": "2025-01-08T13:01:57.890887Z"
    }
   },
   "cell_type": "code",
   "source": [
    "df = pd.DataFrame({'A': [0, 1, 2, 3, 4],\n",
    "                   'B': [5, 6, 7, 8, 9],\n",
    "                   'C': ['a', 'b', 'ac', 'd', 'e']})\n",
    "df.replace(to_replace=r'^a', value=100, regex=True)  # a开头的替换成100"
   ],
   "id": "c2016dd2a169576c",
   "outputs": [
    {
     "data": {
      "text/plain": [
       "   A  B    C\n",
       "0  0  5  100\n",
       "1  1  6    b\n",
       "2  2  7  100\n",
       "3  3  8    d\n",
       "4  4  9    e"
      ],
      "text/html": [
       "<div>\n",
       "<style scoped>\n",
       "    .dataframe tbody tr th:only-of-type {\n",
       "        vertical-align: middle;\n",
       "    }\n",
       "\n",
       "    .dataframe tbody tr th {\n",
       "        vertical-align: top;\n",
       "    }\n",
       "\n",
       "    .dataframe thead th {\n",
       "        text-align: right;\n",
       "    }\n",
       "</style>\n",
       "<table border=\"1\" class=\"dataframe\">\n",
       "  <thead>\n",
       "    <tr style=\"text-align: right;\">\n",
       "      <th></th>\n",
       "      <th>A</th>\n",
       "      <th>B</th>\n",
       "      <th>C</th>\n",
       "    </tr>\n",
       "  </thead>\n",
       "  <tbody>\n",
       "    <tr>\n",
       "      <th>0</th>\n",
       "      <td>0</td>\n",
       "      <td>5</td>\n",
       "      <td>100</td>\n",
       "    </tr>\n",
       "    <tr>\n",
       "      <th>1</th>\n",
       "      <td>1</td>\n",
       "      <td>6</td>\n",
       "      <td>b</td>\n",
       "    </tr>\n",
       "    <tr>\n",
       "      <th>2</th>\n",
       "      <td>2</td>\n",
       "      <td>7</td>\n",
       "      <td>100</td>\n",
       "    </tr>\n",
       "    <tr>\n",
       "      <th>3</th>\n",
       "      <td>3</td>\n",
       "      <td>8</td>\n",
       "      <td>d</td>\n",
       "    </tr>\n",
       "    <tr>\n",
       "      <th>4</th>\n",
       "      <td>4</td>\n",
       "      <td>9</td>\n",
       "      <td>e</td>\n",
       "    </tr>\n",
       "  </tbody>\n",
       "</table>\n",
       "</div>"
      ]
     },
     "execution_count": 26,
     "metadata": {},
     "output_type": "execute_result"
    }
   ],
   "execution_count": 26
  }
 ],
 "metadata": {
  "kernelspec": {
   "display_name": "Python 3",
   "language": "python",
   "name": "python3"
  },
  "language_info": {
   "codemirror_mode": {
    "name": "ipython",
    "version": 2
   },
   "file_extension": ".py",
   "mimetype": "text/x-python",
   "name": "python",
   "nbconvert_exporter": "python",
   "pygments_lexer": "ipython2",
   "version": "2.7.6"
  }
 },
 "nbformat": 4,
 "nbformat_minor": 5
}
