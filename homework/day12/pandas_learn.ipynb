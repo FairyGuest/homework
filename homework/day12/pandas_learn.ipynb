{
 "cells": [
  {
   "cell_type": "code",
   "id": "initial_id",
   "metadata": {
    "collapsed": true,
    "ExecuteTime": {
     "end_time": "2025-01-07T13:59:28.712737Z",
     "start_time": "2025-01-07T13:59:28.689911Z"
    }
   },
   "source": [
    "# 第三题--Series\n",
    "import pandas as pd\n",
    "import numpy as np\n",
    "\n",
    "ser_obj = pd.Series([1, 2, 3, 4, 5])\n",
    "print(ser_obj)\n",
    "print('-' * 50)\n",
    "print(ser_obj.values)\n",
    "print(type(ser_obj))\n",
    "print(ser_obj.dtypes)\n",
    "print(ser_obj.index)\n",
    "print(ser_obj[0])\n",
    "print(ser_obj * 2)\n",
    "print(ser_obj > 3)  # 返回内容是bool类型变量的series\n",
    "print('-' * 50)\n",
    "year_data = {2001: 17.8, 2005: 20.1, 2003: 16.5}\n",
    "ser_obj2 = pd.Series(year_data)\n",
    "print(ser_obj2)\n",
    "print('-' * 50)\n",
    "print(ser_obj2.values)\n",
    "print(ser_obj2.index)\n",
    "print(ser_obj2[2001])\n",
    "print(ser_obj2.head())\n"
   ],
   "outputs": [
    {
     "name": "stdout",
     "output_type": "stream",
     "text": [
      "0    1\n",
      "1    2\n",
      "2    3\n",
      "3    4\n",
      "4    5\n",
      "dtype: int64\n",
      "--------------------------------------------------\n",
      "[1 2 3 4 5]\n",
      "<class 'pandas.core.series.Series'>\n",
      "int64\n",
      "RangeIndex(start=0, stop=5, step=1)\n",
      "1\n",
      "0     2\n",
      "1     4\n",
      "2     6\n",
      "3     8\n",
      "4    10\n",
      "dtype: int64\n",
      "0    False\n",
      "1    False\n",
      "2    False\n",
      "3     True\n",
      "4     True\n",
      "dtype: bool\n",
      "--------------------------------------------------\n",
      "2001    17.8\n",
      "2005    20.1\n",
      "2003    16.5\n",
      "dtype: float64\n",
      "--------------------------------------------------\n",
      "[17.8 20.1 16.5]\n",
      "Int64Index([2001, 2005, 2003], dtype='int64')\n",
      "17.8\n",
      "2001    17.8\n",
      "2005    20.1\n",
      "2003    16.5\n",
      "dtype: float64\n"
     ]
    }
   ],
   "execution_count": 7
  },
  {
   "metadata": {
    "ExecuteTime": {
     "end_time": "2025-01-07T14:16:31.280457Z",
     "start_time": "2025-01-07T14:16:31.261458Z"
    }
   },
   "cell_type": "code",
   "source": [
    "# 第三题--DataFrame\n",
    "t = pd.DataFrame(np.arange(12).reshape(3, 4))\n",
    "print(t)\n",
    "print('-' * 50)\n",
    "array = np.random.randn(5, 4)\n",
    "print(array)\n",
    "df_obj = pd.DataFrame(array)\n",
    "print(df_obj)\n",
    "# t.loc[1]  # 某一行，这是第0行，类型是Series\n",
    "print('-' * 50)\n",
    "d2 = [{\"name\": \"xiaohong\", \"age\": 32, \"tel\": 10010},\n",
    "      {\"name\": \"xiaogang\", \"tel\": 10000},\n",
    "      {\"name\": \"xiaowang\", \"age\": 22}]\n",
    "df6 = pd.DataFrame(d2)\n",
    "print(df6)  # 缺失值会用NaN填充\n",
    "print(type(df6.values))  # ndarray\n",
    "\n",
    "# pd.Series(1, index=list(range(3,7)), dtype='float32')  # 1是值\n",
    "print('-' * 50)\n",
    "dict_data = {'A': 1,\n",
    "             'B': pd.Timestamp('20190926'),\n",
    "             'C': pd.Series(1, index=list(range(4)), dtype='float32'),\n",
    "             'D': np.array([1, 2, 3, 4], dtype='int32'),\n",
    "             'E': [\"Python\", \"Java\", \"C++\", \"C\"],\n",
    "             'F': 'wangdao'}\n",
    "df_obj2 = pd.DataFrame(dict_data)\n",
    "print(df_obj2)  # dataframe的不同列可以是不同类型，但是同一列必须是相同类型;且如'A'只有一个值的可以广播\n",
    "print(df_obj2.index)  # 不可改变\n",
    "print(df_obj2.columns)  # 列索引\n",
    "print(df_obj2.dtypes)  # 每一列的数据类型--Series\n",
    "print('-' * 50)\n",
    "dates = pd.date_range('20130101', periods=6)  #默认freq='D'，从2013-1-1到2013-1-6\n",
    "df = pd.DataFrame(np.random.randn(6, 4), index=dates, columns=list('ABCD'))\n",
    "print(df)\n",
    "print('-' * 50)\n",
    "print(df.index)\n",
    "print(df_obj2['B'])  # Series类型，按照列名提取\n",
    "df_obj2['G'] = df_obj2['D'] + 4  # 按列增加数据，列名自定义\n",
    "print(df_obj2)"
   ],
   "id": "a8ccfff1f7863a62",
   "outputs": [
    {
     "name": "stdout",
     "output_type": "stream",
     "text": [
      "   0  1   2   3\n",
      "0  0  1   2   3\n",
      "1  4  5   6   7\n",
      "2  8  9  10  11\n",
      "--------------------------------------------------\n",
      "[[ 0.95221858 -0.08927047 -0.40611974  0.13545468]\n",
      " [-0.87711601 -0.12915144  0.75830886  0.16042835]\n",
      " [-0.50931637 -1.72344628  0.82996919 -0.19565816]\n",
      " [ 0.84030749 -1.0253723  -0.620822    0.27412633]\n",
      " [ 0.50947245 -0.6333979   0.65301136 -0.40241075]]\n",
      "          0         1         2         3\n",
      "0  0.952219 -0.089270 -0.406120  0.135455\n",
      "1 -0.877116 -0.129151  0.758309  0.160428\n",
      "2 -0.509316 -1.723446  0.829969 -0.195658\n",
      "3  0.840307 -1.025372 -0.620822  0.274126\n",
      "4  0.509472 -0.633398  0.653011 -0.402411\n",
      "--------------------------------------------------\n",
      "       name   age      tel\n",
      "0  xiaohong  32.0  10010.0\n",
      "1  xiaogang   NaN  10000.0\n",
      "2  xiaowang  22.0      NaN\n",
      "<class 'numpy.ndarray'>\n",
      "--------------------------------------------------\n",
      "   A          B    C  D       E        F\n",
      "0  1 2019-09-26  1.0  1  Python  wangdao\n",
      "1  1 2019-09-26  1.0  2    Java  wangdao\n",
      "2  1 2019-09-26  1.0  3     C++  wangdao\n",
      "3  1 2019-09-26  1.0  4       C  wangdao\n",
      "Int64Index([0, 1, 2, 3], dtype='int64')\n",
      "Index(['A', 'B', 'C', 'D', 'E', 'F'], dtype='object')\n",
      "A             int64\n",
      "B    datetime64[ns]\n",
      "C           float32\n",
      "D             int32\n",
      "E            object\n",
      "F            object\n",
      "dtype: object\n",
      "--------------------------------------------------\n",
      "                   A         B         C         D\n",
      "2013-01-01 -0.081262 -0.506845 -1.104115  0.489843\n",
      "2013-01-02 -0.483901 -0.560244  0.152974  0.802032\n",
      "2013-01-03 -0.460830 -0.274260 -0.696367  0.729081\n",
      "2013-01-04 -0.685642 -1.021381 -0.773018  0.011806\n",
      "2013-01-05  1.631087  0.392132 -0.760012  0.932506\n",
      "2013-01-06 -1.497041 -0.501250 -0.605179 -1.693933\n",
      "--------------------------------------------------\n",
      "DatetimeIndex(['2013-01-01', '2013-01-02', '2013-01-03', '2013-01-04',\n",
      "               '2013-01-05', '2013-01-06'],\n",
      "              dtype='datetime64[ns]', freq='D')\n",
      "0   2019-09-26\n",
      "1   2019-09-26\n",
      "2   2019-09-26\n",
      "3   2019-09-26\n",
      "Name: B, dtype: datetime64[ns]\n",
      "   A          B    C  D       E        F  G\n",
      "0  1 2019-09-26  1.0  1  Python  wangdao  5\n",
      "1  1 2019-09-26  1.0  2    Java  wangdao  6\n",
      "2  1 2019-09-26  1.0  3     C++  wangdao  7\n",
      "3  1 2019-09-26  1.0  4       C  wangdao  8\n"
     ]
    }
   ],
   "execution_count": 20
  },
  {
   "metadata": {
    "ExecuteTime": {
     "end_time": "2025-01-07T14:25:34.886680Z",
     "start_time": "2025-01-07T14:25:34.875681Z"
    }
   },
   "cell_type": "code",
   "source": [
    "# 第三题--索引和函数应用\n",
    "ser_obj = pd.Series(range(5), index=list('ABCDE'))\n",
    "print(ser_obj)\n",
    "print(ser_obj.index)\n",
    "print(ser_obj['B'])  # 索引名\n",
    "print(ser_obj[2])  # 位置索引\n",
    "print(ser_obj.loc['B'])  # loc就是列名\n",
    "print(ser_obj.iloc[2])  # iloc就是位置\n",
    "print(ser_obj.iloc[1:3])  # 连续\n",
    "print(ser_obj.loc['B':'D'])\n",
    "print(ser_obj.iloc[[0, 2, 4]])  # 不连续索引\n",
    "print(ser_obj.loc[['A', 'E']])\n",
    "ser_bool = ser_obj > 2\n",
    "print(ser_bool)\n",
    "print('-' * 50)\n",
    "print(ser_obj[ser_obj > 2])  # 取出大于2的元素"
   ],
   "id": "df4443d403ee79fb",
   "outputs": [
    {
     "name": "stdout",
     "output_type": "stream",
     "text": [
      "A    0\n",
      "B    1\n",
      "C    2\n",
      "D    3\n",
      "E    4\n",
      "dtype: int64\n",
      "Index(['A', 'B', 'C', 'D', 'E'], dtype='object')\n",
      "1\n",
      "2\n",
      "1\n",
      "2\n",
      "B    1\n",
      "C    2\n",
      "dtype: int64\n",
      "B    1\n",
      "C    2\n",
      "D    3\n",
      "dtype: int64\n",
      "A    0\n",
      "C    2\n",
      "E    4\n",
      "dtype: int64\n",
      "A    0\n",
      "E    4\n",
      "dtype: int64\n",
      "A    False\n",
      "B    False\n",
      "C    False\n",
      "D     True\n",
      "E     True\n",
      "dtype: bool\n",
      "--------------------------------------------------\n",
      "D    3\n",
      "E    4\n",
      "dtype: int64\n"
     ]
    }
   ],
   "execution_count": 28
  },
  {
   "metadata": {
    "ExecuteTime": {
     "end_time": "2025-01-07T14:38:51.010870Z",
     "start_time": "2025-01-07T14:38:50.993702Z"
    }
   },
   "cell_type": "code",
   "source": [
    "# 第三题--DataFrame索引\n",
    "df_obj = pd.DataFrame(np.random.randn(6, 4), columns=list('ABCD'))\n",
    "print(df_obj)\n",
    "print(df_obj['A'])  # Series类型--列\n",
    "print(df_obj[['A']])  # DataFrame类型\n",
    "# 用：完成的截取和用loc效果一样，但用loc效率更高\n",
    "print(ser_obj.loc['A':'C'])  # 类似于闭区间\n",
    "print(df_obj.loc[0])  # 行\n",
    "print('-' * 50)\n",
    "print(df_obj.loc[0:2, 'A':'C'])  # 连续索引\n",
    "print(df_obj.loc[[0, 2], ['A', 'C']])  # 不连续索引\n",
    "print(df_obj.loc[[0], ['B']])  # 取单个值，具体效果类似于上面，返回的是dataframe\n",
    "print(df_obj.loc[0, 'B'])  # 具体值"
   ],
   "id": "6dce2bff11551f3b",
   "outputs": [
    {
     "name": "stdout",
     "output_type": "stream",
     "text": [
      "          A         B         C         D\n",
      "0 -0.500416  0.055067 -1.167900  0.036211\n",
      "1 -0.008852 -0.322541  1.123225 -1.474796\n",
      "2  2.434015 -0.776566 -0.109902  0.486137\n",
      "3 -0.348089  1.068595 -1.186479 -1.608817\n",
      "4 -2.071762  1.108538 -0.179846 -0.235114\n",
      "5 -2.582808  0.710917  1.009342 -0.353903\n",
      "0   -0.500416\n",
      "1   -0.008852\n",
      "2    2.434015\n",
      "3   -0.348089\n",
      "4   -2.071762\n",
      "5   -2.582808\n",
      "Name: A, dtype: float64\n",
      "          A\n",
      "0 -0.500416\n",
      "1 -0.008852\n",
      "2  2.434015\n",
      "3 -0.348089\n",
      "4 -2.071762\n",
      "5 -2.582808\n",
      "A    0\n",
      "B    1\n",
      "C    2\n",
      "dtype: int64\n",
      "A   -0.500416\n",
      "B    0.055067\n",
      "C   -1.167900\n",
      "D    0.036211\n",
      "Name: 0, dtype: float64\n",
      "--------------------------------------------------\n",
      "          A         B         C\n",
      "0 -0.500416  0.055067 -1.167900\n",
      "1 -0.008852 -0.322541  1.123225\n",
      "2  2.434015 -0.776566 -0.109902\n",
      "          A         C\n",
      "0 -0.500416 -1.167900\n",
      "2  2.434015 -0.109902\n",
      "          B\n",
      "0  0.055067\n",
      "0.055067046826669616\n"
     ]
    }
   ],
   "execution_count": 43
  },
  {
   "metadata": {
    "ExecuteTime": {
     "end_time": "2025-01-07T14:45:03.460003Z",
     "start_time": "2025-01-07T14:45:03.453001Z"
    }
   },
   "cell_type": "code",
   "source": [
    "# 第三题--iloc索引\n",
    "print(ser_obj.iloc[1:3])  # 前闭后开\n",
    "print(df_obj.iloc[0:2, 0: 1])  # 不再用列名作为index\n",
    "print(df_obj.iloc[[0, 2], [0, 2]])  # 不连续索引\n",
    "print(df_obj.iloc[0, 0])  # 取一个值"
   ],
   "id": "614d52e0619b2238",
   "outputs": [
    {
     "name": "stdout",
     "output_type": "stream",
     "text": [
      "B    1\n",
      "C    2\n",
      "dtype: int64\n",
      "          A\n",
      "0 -0.500416\n",
      "1 -0.008852\n",
      "          A         C\n",
      "0 -0.500416 -1.167900\n",
      "2  2.434015 -0.109902\n",
      "-0.5004156598801641\n"
     ]
    }
   ],
   "execution_count": 48
  },
  {
   "metadata": {
    "ExecuteTime": {
     "end_time": "2025-01-07T14:51:30.382684Z",
     "start_time": "2025-01-07T14:51:30.361683Z"
    }
   },
   "cell_type": "code",
   "source": [
    "# 第三题--函数\n",
    "df = pd.DataFrame(np.random.randn(5, 4) - 1)\n",
    "print(df)\n",
    "print(np.abs(df))  # 绝对值\n",
    "print(df.apply(lambda x: x.max()))  # apply自己写的函数，应该也可以调用一个函数\n",
    "print(df.apply(lambda x: x.max(), axis=1))  # 作用在行"
   ],
   "id": "24f9aa9266616c37",
   "outputs": [
    {
     "name": "stdout",
     "output_type": "stream",
     "text": [
      "          0         1         2         3\n",
      "0 -1.885957 -2.089832 -0.761772 -0.191912\n",
      "1 -3.443653  0.135745 -0.396520 -1.350208\n",
      "2 -1.693516 -0.366916 -1.242741 -0.174284\n",
      "3 -3.141678 -1.690735 -1.553679  0.252613\n",
      "4 -1.058424  0.799673 -0.704989 -0.911522\n",
      "          0         1         2         3\n",
      "0  1.885957  2.089832  0.761772  0.191912\n",
      "1  3.443653  0.135745  0.396520  1.350208\n",
      "2  1.693516  0.366916  1.242741  0.174284\n",
      "3  3.141678  1.690735  1.553679  0.252613\n",
      "4  1.058424  0.799673  0.704989  0.911522\n",
      "0   -1.058424\n",
      "1    0.799673\n",
      "2   -0.396520\n",
      "3    0.252613\n",
      "dtype: float64\n",
      "0   -0.191912\n",
      "1    0.135745\n",
      "2   -0.174284\n",
      "3    0.252613\n",
      "4    0.799673\n",
      "dtype: float64\n"
     ]
    },
    {
     "ename": "AttributeError",
     "evalue": "'DataFrame' object has no attribute 'map'",
     "output_type": "error",
     "traceback": [
      "\u001B[1;31m---------------------------------------------------------------------------\u001B[0m",
      "\u001B[1;31mAttributeError\u001B[0m                            Traceback (most recent call last)",
      "Cell \u001B[1;32mIn[56], line 7\u001B[0m\n\u001B[0;32m      5\u001B[0m \u001B[38;5;28mprint\u001B[39m(df\u001B[38;5;241m.\u001B[39mapply(\u001B[38;5;28;01mlambda\u001B[39;00m x: x\u001B[38;5;241m.\u001B[39mmax()))  \u001B[38;5;66;03m# apply自己写的函数，应该也可以调用一个函数\u001B[39;00m\n\u001B[0;32m      6\u001B[0m \u001B[38;5;28mprint\u001B[39m(df\u001B[38;5;241m.\u001B[39mapply(\u001B[38;5;28;01mlambda\u001B[39;00m x: x\u001B[38;5;241m.\u001B[39mmax(), axis\u001B[38;5;241m=\u001B[39m\u001B[38;5;241m1\u001B[39m))  \u001B[38;5;66;03m# 作用在行\u001B[39;00m\n\u001B[1;32m----> 7\u001B[0m \u001B[38;5;28mprint\u001B[39m(\u001B[43mdf\u001B[49m\u001B[38;5;241;43m.\u001B[39;49m\u001B[43mmap\u001B[49m(\u001B[38;5;28;01mlambda\u001B[39;00m x : \u001B[38;5;124m'\u001B[39m\u001B[38;5;132;01m%.2f\u001B[39;00m\u001B[38;5;124m'\u001B[39m \u001B[38;5;241m%\u001B[39m x))\n",
      "File \u001B[1;32m~\\AppData\\Local\\Programs\\Python\\Python310\\lib\\site-packages\\pandas\\core\\generic.py:5902\u001B[0m, in \u001B[0;36mNDFrame.__getattr__\u001B[1;34m(self, name)\u001B[0m\n\u001B[0;32m   5895\u001B[0m \u001B[38;5;28;01mif\u001B[39;00m (\n\u001B[0;32m   5896\u001B[0m     name \u001B[38;5;129;01mnot\u001B[39;00m \u001B[38;5;129;01min\u001B[39;00m \u001B[38;5;28mself\u001B[39m\u001B[38;5;241m.\u001B[39m_internal_names_set\n\u001B[0;32m   5897\u001B[0m     \u001B[38;5;129;01mand\u001B[39;00m name \u001B[38;5;129;01mnot\u001B[39;00m \u001B[38;5;129;01min\u001B[39;00m \u001B[38;5;28mself\u001B[39m\u001B[38;5;241m.\u001B[39m_metadata\n\u001B[0;32m   5898\u001B[0m     \u001B[38;5;129;01mand\u001B[39;00m name \u001B[38;5;129;01mnot\u001B[39;00m \u001B[38;5;129;01min\u001B[39;00m \u001B[38;5;28mself\u001B[39m\u001B[38;5;241m.\u001B[39m_accessors\n\u001B[0;32m   5899\u001B[0m     \u001B[38;5;129;01mand\u001B[39;00m \u001B[38;5;28mself\u001B[39m\u001B[38;5;241m.\u001B[39m_info_axis\u001B[38;5;241m.\u001B[39m_can_hold_identifiers_and_holds_name(name)\n\u001B[0;32m   5900\u001B[0m ):\n\u001B[0;32m   5901\u001B[0m     \u001B[38;5;28;01mreturn\u001B[39;00m \u001B[38;5;28mself\u001B[39m[name]\n\u001B[1;32m-> 5902\u001B[0m \u001B[38;5;28;01mreturn\u001B[39;00m \u001B[38;5;28;43mobject\u001B[39;49m\u001B[38;5;241;43m.\u001B[39;49m\u001B[38;5;21;43m__getattribute__\u001B[39;49m\u001B[43m(\u001B[49m\u001B[38;5;28;43mself\u001B[39;49m\u001B[43m,\u001B[49m\u001B[43m \u001B[49m\u001B[43mname\u001B[49m\u001B[43m)\u001B[49m\n",
      "\u001B[1;31mAttributeError\u001B[0m: 'DataFrame' object has no attribute 'map'"
     ]
    }
   ],
   "execution_count": 56
  },
  {
   "metadata": {
    "ExecuteTime": {
     "end_time": "2025-01-07T15:04:08.977875Z",
     "start_time": "2025-01-07T15:04:08.953664Z"
    }
   },
   "cell_type": "code",
   "source": [
    "# 第四题--添加和删除nan\n",
    "df_data = pd.DataFrame([np.random.randn(3), [1., 2., np.nan],\n",
    "                        [np.nan, 4., np.nan], [1., 2., 3.]])\n",
    "print(df_data.iloc[2, 0])\n",
    "print(df_data.isnull())  # 判断数据是否有空\n",
    "print(df_data.isnull().sum() / len(df_data))  # 数据缺失率\n",
    "print(df_data.dropna(subset=[0]))  # 是指按第一列来删除,第一列有空值就删除对应的行\n",
    "print(df_data.dropna(axis=1))  #某列由nan就删除该列\n",
    "print(df_data.iloc[:, 0].fillna(-100.))  # 将nan用-100.填充\n",
    "print(df_data)  # 原值不变\n",
    "\n",
    "for i in df_data.columns:\n",
    "    print(df_data.loc[:, i])  # 依次拿到每一列\n",
    "\n",
    "df_data.iloc[:, 2] = df_data.iloc[:, 2].fillna(df_data.iloc[:, 2].mean())  # 用均值填充nan\n",
    "print(df_data)"
   ],
   "id": "335f4aadbaff9855",
   "outputs": [
    {
     "name": "stdout",
     "output_type": "stream",
     "text": [
      "nan\n",
      "       0      1      2\n",
      "0  False  False  False\n",
      "1  False  False   True\n",
      "2   True  False   True\n",
      "3  False  False  False\n",
      "0    0.25\n",
      "1    0.00\n",
      "2    0.50\n",
      "dtype: float64\n",
      "          0        1         2\n",
      "0  0.347792  0.17041  0.045135\n",
      "1  1.000000  2.00000       NaN\n",
      "3  1.000000  2.00000  3.000000\n",
      "         1\n",
      "0  0.17041\n",
      "1  2.00000\n",
      "2  4.00000\n",
      "3  2.00000\n",
      "0      0.347792\n",
      "1      1.000000\n",
      "2   -100.000000\n",
      "3      1.000000\n",
      "Name: 0, dtype: float64\n",
      "          0        1         2\n",
      "0  0.347792  0.17041  0.045135\n",
      "1  1.000000  2.00000       NaN\n",
      "2       NaN  4.00000       NaN\n",
      "3  1.000000  2.00000  3.000000\n",
      "0    0.347792\n",
      "1    1.000000\n",
      "2         NaN\n",
      "3    1.000000\n",
      "Name: 0, dtype: float64\n",
      "0    0.17041\n",
      "1    2.00000\n",
      "2    4.00000\n",
      "3    2.00000\n",
      "Name: 1, dtype: float64\n",
      "0    0.045135\n",
      "1         NaN\n",
      "2         NaN\n",
      "3    3.000000\n",
      "Name: 2, dtype: float64\n"
     ]
    }
   ],
   "execution_count": 61
  },
  {
   "metadata": {
    "ExecuteTime": {
     "end_time": "2025-01-07T15:08:03.782300Z",
     "start_time": "2025-01-07T15:08:03.753951Z"
    }
   },
   "cell_type": "code",
   "source": [
    "# 第四题--统计与计算\n",
    "index1 = pd.MultiIndex.from_arrays([['a', 'a', 'a', 'b', 'b', 'b', 'c', 'c', 'c', 'd', 'd', 'd'],\n",
    "                                    [0, 1, 2, 0, 1, 2, 0, 1, 2, 0, 1, 2]], names=['cloth', 'size'])\n",
    "\n",
    "ser_obj = pd.Series(np.random.randn(12), index=index1)\n",
    "df_obj = ser_obj.unstack(0)\n",
    "print(df_obj)\n",
    "#计算最小值有空值如何处理\n",
    "df_obj.loc[0, 'b'] = np.nan\n",
    "print(df_obj)\n",
    "print('-' * 50)\n",
    "print(df_obj.min(axis=0))\n",
    "\n",
    "print(df_obj.describe())  # 观察数据分布\n",
    "print(df_obj.loc[:, 'c'].argmin())  #argmin和argmax只能是series，不能是df\n",
    "df_obj.idxmin(axis=0, skipna=True)"
   ],
   "id": "23ee455d4924137d",
   "outputs": [
    {
     "name": "stdout",
     "output_type": "stream",
     "text": [
      "cloth         a         b         c         d\n",
      "size                                         \n",
      "0     -1.291181  1.360183 -0.028372 -0.181576\n",
      "1     -0.116309 -0.011143  0.270045  0.622838\n",
      "2      1.227948 -0.476246 -1.162383  1.747675\n",
      "cloth         a         b         c         d\n",
      "size                                         \n",
      "0     -1.291181       NaN -0.028372 -0.181576\n",
      "1     -0.116309 -0.011143  0.270045  0.622838\n",
      "2      1.227948 -0.476246 -1.162383  1.747675\n",
      "--------------------------------------------------\n",
      "cloth\n",
      "a   -1.291181\n",
      "b   -0.476246\n",
      "c   -1.162383\n",
      "d   -0.181576\n",
      "dtype: float64\n",
      "cloth         a         b         c         d\n",
      "count  3.000000  2.000000  3.000000  3.000000\n",
      "mean  -0.059847 -0.243695 -0.306903  0.729646\n",
      "std    1.260513  0.328877  0.755743  0.969050\n",
      "min   -1.291181 -0.476246 -1.162383 -0.181576\n",
      "25%   -0.703745 -0.359971 -0.595377  0.220631\n",
      "50%   -0.116309 -0.243695 -0.028372  0.622838\n",
      "75%    0.555819 -0.127419  0.120837  1.185257\n",
      "max    1.227948 -0.011143  0.270045  1.747675\n",
      "2\n"
     ]
    },
    {
     "data": {
      "text/plain": [
       "cloth\n",
       "a    0\n",
       "b    2\n",
       "c    2\n",
       "d    0\n",
       "dtype: int64"
      ]
     },
     "execution_count": 63,
     "metadata": {},
     "output_type": "execute_result"
    }
   ],
   "execution_count": 63
  }
 ],
 "metadata": {
  "kernelspec": {
   "display_name": "Python 3",
   "language": "python",
   "name": "python3"
  },
  "language_info": {
   "codemirror_mode": {
    "name": "ipython",
    "version": 2
   },
   "file_extension": ".py",
   "mimetype": "text/x-python",
   "name": "python",
   "nbconvert_exporter": "python",
   "pygments_lexer": "ipython2",
   "version": "2.7.6"
  }
 },
 "nbformat": 4,
 "nbformat_minor": 5
}
