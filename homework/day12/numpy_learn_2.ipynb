{
 "cells": [
  {
   "cell_type": "code",
   "execution_count": null,
   "id": "initial_id",
   "metadata": {
    "collapsed": true
   },
   "outputs": [],
   "source": [
    "# 1、完成nan和inf的使用，掌握数组中nan值去除，替换为对应列的平均值\n",
    "# 2、np二维数组转置练习，轴滚动练习\n",
    "# 3、练习series和df的索引操作,函数应用\n",
    "# 4、练习处理缺失数据，统计与计算\n",
    "# \n",
    "# \n",
    "# 操作与上课一致即可，完成基础作业即可提交\n",
    "# 难度作业：\n",
    "# 5、Numpy youtube数据读取练习，并通过matplotlib绘制直方图，散点图\n",
    "# 6、练习对齐运算，层级索引，设置索引，时间序列\n",
    "import numpy as np"
   ]
  },
  {
   "metadata": {
    "ExecuteTime": {
     "end_time": "2025-01-07T13:00:00.588384Z",
     "start_time": "2025-01-07T13:00:00.579387Z"
    }
   },
   "cell_type": "code",
   "source": [
    "# 第一题--nan\n",
    "a = np.nan\n",
    "b = np.inf\n",
    "print(a, type(a))  # nan和inf都是float类型\n",
    "print(b, type(b))"
   ],
   "id": "719ca4273e088cc1",
   "outputs": [
    {
     "name": "stdout",
     "output_type": "stream",
     "text": [
      "nan <class 'float'>\n",
      "inf <class 'float'>\n"
     ]
    }
   ],
   "execution_count": 13
  },
  {
   "metadata": {
    "ExecuteTime": {
     "end_time": "2025-01-07T13:02:02.327133Z",
     "start_time": "2025-01-07T13:02:02.314139Z"
    }
   },
   "cell_type": "code",
   "source": [
    "print(np.nan == np.nan)  # np.nan不等于np.nan\n",
    "np.nan + 1"
   ],
   "id": "6d5f357778b9a3e0",
   "outputs": [
    {
     "name": "stdout",
     "output_type": "stream",
     "text": [
      "False\n"
     ]
    },
    {
     "data": {
      "text/plain": [
       "nan"
      ]
     },
     "execution_count": 14,
     "metadata": {},
     "output_type": "execute_result"
    }
   ],
   "execution_count": 14
  },
  {
   "metadata": {
    "ExecuteTime": {
     "end_time": "2025-01-07T13:05:21.257998Z",
     "start_time": "2025-01-07T13:05:21.238002Z"
    }
   },
   "cell_type": "code",
   "source": [
    "t = np.arange(24, dtype=float).reshape(4, 6)\n",
    "\n",
    "t[3, 4] = np.nan\n",
    "t[2, 4] = np.nan\n",
    "print(t)\n",
    "\n",
    "#  可以借用np.nan!=np.nan来统计nan的个数\n",
    "print(np.count_nonzero(t != t))  # 统计非零值\n",
    "#  将nan替换成0\n",
    "t[np.isnan(t)] = 0\n",
    "print(t)"
   ],
   "id": "2aa72ac6fdebf8c1",
   "outputs": [
    {
     "name": "stdout",
     "output_type": "stream",
     "text": [
      "[[ 0.  1.  2.  3.  4.  5.]\n",
      " [ 6.  7.  8.  9. 10. 11.]\n",
      " [12. 13. 14. 15. nan 17.]\n",
      " [18. 19. 20. 21. nan 23.]]\n",
      "2\n",
      "[[ 0.  1.  2.  3.  4.  5.]\n",
      " [ 6.  7.  8.  9. 10. 11.]\n",
      " [12. 13. 14. 15.  0. 17.]\n",
      " [18. 19. 20. 21.  0. 23.]]\n"
     ]
    }
   ],
   "execution_count": 17
  },
  {
   "metadata": {
    "ExecuteTime": {
     "end_time": "2025-01-07T13:21:40.960782Z",
     "start_time": "2025-01-07T13:21:40.945783Z"
    }
   },
   "cell_type": "code",
   "source": [
    "t = np.arange(24).reshape(4, 6).astype(float)\n",
    "t[1, 3:] = np.nan\n",
    "print(t)\n",
    "print(t.shape)\n",
    "print(id(t))\n",
    "# t.shape[1]  # t.shape就是元组(4,6)--所以t.shape[1]=6\n",
    "for i in range(t.shape[1]):\n",
    "    temp_col = t[:, i]  # 提取第i列\n",
    "\n",
    "    nan_num = np.count_nonzero(temp_col != temp_col)\n",
    "    if nan_num != 0:\n",
    "        temp_col_not_nan = temp_col[temp_col == temp_col]\n",
    "        print(temp_col_not_nan)\n",
    "        temp_col[np.isnan(temp_col)] = np.mean(temp_col_not_nan)\n",
    "print('-' * 50)\n",
    "print(t)\n",
    "print(id(t))\n",
    "t[1, 3:] = np.nan\n",
    "t1 = np.arange(24).reshape(4, 6).astype(float)\n",
    "t + t1"
   ],
   "id": "49bc9054bb541472",
   "outputs": [
    {
     "name": "stdout",
     "output_type": "stream",
     "text": [
      "[[ 0.  1.  2.  3.  4.  5.]\n",
      " [ 6.  7.  8. nan nan nan]\n",
      " [12. 13. 14. 15. 16. 17.]\n",
      " [18. 19. 20. 21. 22. 23.]]\n",
      "(4, 6)\n",
      "1556640633104\n",
      "[ 3. 15. 21.]\n",
      "[ 4. 16. 22.]\n",
      "[ 5. 17. 23.]\n",
      "--------------------------------------------------\n",
      "[[ 0.  1.  2.  3.  4.  5.]\n",
      " [ 6.  7.  8. 13. 14. 15.]\n",
      " [12. 13. 14. 15. 16. 17.]\n",
      " [18. 19. 20. 21. 22. 23.]]\n",
      "1556640633104\n"
     ]
    },
    {
     "data": {
      "text/plain": [
       "array([[ 0.,  2.,  4.,  6.,  8., 10.],\n",
       "       [12., 14., 16., nan, nan, nan],\n",
       "       [24., 26., 28., 30., 32., 34.],\n",
       "       [36., 38., 40., 42., 44., 46.]])"
      ]
     },
     "execution_count": 22,
     "metadata": {},
     "output_type": "execute_result"
    }
   ],
   "execution_count": 22
  },
  {
   "metadata": {
    "ExecuteTime": {
     "end_time": "2025-01-07T13:22:47.325531Z",
     "start_time": "2025-01-07T13:22:47.306735Z"
    }
   },
   "cell_type": "code",
   "source": [
    "# 第一题--inf\n",
    "arr = np.array([-1, 0])\n",
    "print(arr)\n",
    "print(arr[0] / arr[1])\n"
   ],
   "id": "147703e190c2bf20",
   "outputs": [
    {
     "name": "stdout",
     "output_type": "stream",
     "text": [
      "[-1  0]\n",
      "-inf\n"
     ]
    },
    {
     "name": "stderr",
     "output_type": "stream",
     "text": [
      "C:\\Users\\Administrator\\AppData\\Local\\Temp\\ipykernel_18072\\1207057292.py:4: RuntimeWarning: divide by zero encountered in scalar divide\n",
      "  print(arr[0]/arr[1])\n"
     ]
    }
   ],
   "execution_count": 23
  },
  {
   "metadata": {
    "ExecuteTime": {
     "end_time": "2025-01-07T13:28:38.563574Z",
     "start_time": "2025-01-07T13:28:38.550574Z"
    }
   },
   "cell_type": "code",
   "source": [
    "# 第二题--转置\n",
    "a = np.arange(12).reshape(3, 4)\n",
    "print('原数组\\n', a)\n",
    "print('对换数组\\n', np.transpose(a))  # 类似于矩阵转置\n",
    "print(a)  # a不变\n",
    "print(a.T)  # T也是转置--更像矩阵了"
   ],
   "id": "fa0b44ee2e966b4a",
   "outputs": [
    {
     "name": "stdout",
     "output_type": "stream",
     "text": [
      "原数组\n",
      " [[ 0  1  2  3]\n",
      " [ 4  5  6  7]\n",
      " [ 8  9 10 11]]\n",
      "对换数组\n",
      " [[ 0  4  8]\n",
      " [ 1  5  9]\n",
      " [ 2  6 10]\n",
      " [ 3  7 11]]\n",
      "[[ 0  1  2  3]\n",
      " [ 4  5  6  7]\n",
      " [ 8  9 10 11]]\n",
      "[[ 0  4  8]\n",
      " [ 1  5  9]\n",
      " [ 2  6 10]\n",
      " [ 3  7 11]]\n"
     ]
    }
   ],
   "execution_count": 26
  },
  {
   "metadata": {
    "ExecuteTime": {
     "end_time": "2025-01-07T13:33:35.445772Z",
     "start_time": "2025-01-07T13:33:35.432771Z"
    }
   },
   "cell_type": "code",
   "source": [
    "# 第二题--交换\n",
    "t1 = np.arange(24).reshape(4, 6).astype(float)\n",
    "# re1 = t1.swapaxes(1,0)\n",
    "re1 = t1.swapaxes(0, 1)  # 效果一样\n",
    "print(t1)\n",
    "print(re1)\n",
    "t3 = np.arange(60).reshape(3, 4, 5)\n",
    "print(t3.shape)\n",
    "t3 = np.swapaxes(t3, 1, 2)\n",
    "print(t3.shape)"
   ],
   "id": "e54d3172152f9d6c",
   "outputs": [
    {
     "name": "stdout",
     "output_type": "stream",
     "text": [
      "[[ 0.  1.  2.  3.  4.  5.]\n",
      " [ 6.  7.  8.  9. 10. 11.]\n",
      " [12. 13. 14. 15. 16. 17.]\n",
      " [18. 19. 20. 21. 22. 23.]]\n",
      "[[ 0.  6. 12. 18.]\n",
      " [ 1.  7. 13. 19.]\n",
      " [ 2.  8. 14. 20.]\n",
      " [ 3.  9. 15. 21.]\n",
      " [ 4. 10. 16. 22.]\n",
      " [ 5. 11. 17. 23.]]\n",
      "(3, 4, 5)\n",
      "(3, 5, 4)\n"
     ]
    }
   ],
   "execution_count": 30
  },
  {
   "metadata": {
    "ExecuteTime": {
     "end_time": "2025-01-07T13:36:59.048786Z",
     "start_time": "2025-01-07T13:36:59.034789Z"
    }
   },
   "cell_type": "code",
   "source": [
    "# 第二题--轴滚动\n",
    "a = np.ones((3, 4, 5, 6))\n",
    "b = np.rollaxis(a, 3, 1)  # 把第三轴放到原第一轴前，原自第一轴开始逐轴推迟\n",
    "print(b.shape)\n",
    "c = np.rollaxis(b, 1, 4)  # 把第一轴放到原第四轴前，然原无第四轴，则将第一轴放到最后面(最多写4\n",
    "print(c.shape)"
   ],
   "id": "8485307565dd09e1",
   "outputs": [
    {
     "name": "stdout",
     "output_type": "stream",
     "text": [
      "(3, 6, 4, 5)\n",
      "(3, 4, 5, 6)\n"
     ]
    }
   ],
   "execution_count": 35
  },
  {
   "metadata": {},
   "cell_type": "code",
   "outputs": [],
   "execution_count": null,
   "source": "",
   "id": "21cb042623c13bf9"
  }
 ],
 "metadata": {
  "kernelspec": {
   "display_name": "Python 3",
   "language": "python",
   "name": "python3"
  },
  "language_info": {
   "codemirror_mode": {
    "name": "ipython",
    "version": 2
   },
   "file_extension": ".py",
   "mimetype": "text/x-python",
   "name": "python",
   "nbconvert_exporter": "python",
   "pygments_lexer": "ipython2",
   "version": "2.7.6"
  }
 },
 "nbformat": 4,
 "nbformat_minor": 5
}
