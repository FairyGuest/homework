{
 "cells": [
  {
   "cell_type": "code",
   "id": "initial_id",
   "metadata": {
    "collapsed": true,
    "ExecuteTime": {
     "end_time": "2025-01-06T11:26:57.046542Z",
     "start_time": "2025-01-06T11:26:56.362247Z"
    }
   },
   "source": [
    "# 第二题\n",
    "import numpy as np\n",
    "import time\n",
    "\n",
    "a = [i for i in range(10000000)]\n",
    "b = np.array(a)\n",
    "\n",
    "a_start_time = time.time()\n",
    "sum(a)\n",
    "a_end_time = time.time()\n",
    "b_start_time = time.time()\n",
    "b.sum()\n",
    "b_end_time = time.time()\n",
    "print(f'列表求和所耗时间{a_end_time - a_start_time}')\n",
    "print(f'numpy数组求和所耗时间{b_end_time - b_start_time}')"
   ],
   "outputs": [
    {
     "name": "stdout",
     "output_type": "stream",
     "text": [
      "列表求和所耗时间0.12700581550598145\n",
      "numpy数组求和所耗时间0.003000020980834961\n"
     ]
    }
   ],
   "execution_count": 3
  },
  {
   "metadata": {
    "ExecuteTime": {
     "end_time": "2025-01-06T12:10:27.872359Z",
     "start_time": "2025-01-06T12:10:27.810207Z"
    }
   },
   "cell_type": "code",
   "source": [
    "# 第三题\n",
    "list_2 = [[1, 2, 3], [4, 5, 6]]\n",
    "array_2 = np.array(list_2)\n",
    "print(array_2.ndim)  # 维度\n",
    "print(array_2.shape)  # 形状（行，列）\n",
    "print(array_2.size)  # 元素数\n",
    "print(array_2.dtype)  # 数据类型--默认为int32\n",
    "array_3 = array_2.reshape(3, 2)  # 调整形状\n",
    "print(array_3.shape)\n",
    "array_4 = array_2.reshape((1, 6), order='C')\n",
    "print(array_4)\n",
    "print(array_4.shape)\n",
    "array_flatten = array_2.flatten()  # reshape(6,)和flatten效果一样\n",
    "print(array_flatten.shape)\n",
    "list_3 = array_3.tolist()  # 转列表\n",
    "print(list_3)\n",
    "t = np.arange(24)\n",
    "print(t)\n",
    "print(f'shape:{t.shape}')\n",
    "print(f'维数:{t.ndim}')\n",
    "t1 = t.reshape((4, 6))\n",
    "print(t1)\n",
    "print(t1.shape)\n",
    "t2 = t1.reshape((2, 3, 4))\n",
    "print(t2)\n",
    "print(t2.shape)\n",
    "print(t2.ndim)  # 2--0轴，3--1轴,4--2轴"
   ],
   "id": "aca70a79680c8e20",
   "outputs": [
    {
     "name": "stdout",
     "output_type": "stream",
     "text": [
      "2\n",
      "(2, 3)\n",
      "6\n",
      "int32\n",
      "(3, 2)\n",
      "[[1 2 3 4 5 6]]\n",
      "(1, 6)\n",
      "(6,)\n",
      "[[1, 2], [3, 4], [5, 6]]\n",
      "[ 0  1  2  3  4  5  6  7  8  9 10 11 12 13 14 15 16 17 18 19 20 21 22 23]\n",
      "shape:(24,)\n",
      "维数:1\n",
      "[[ 0  1  2  3  4  5]\n",
      " [ 6  7  8  9 10 11]\n",
      " [12 13 14 15 16 17]\n",
      " [18 19 20 21 22 23]]\n",
      "(4, 6)\n",
      "[[[ 0  1  2  3]\n",
      "  [ 4  5  6  7]\n",
      "  [ 8  9 10 11]]\n",
      "\n",
      " [[12 13 14 15]\n",
      "  [16 17 18 19]\n",
      "  [20 21 22 23]]]\n",
      "(2, 3, 4)\n",
      "3\n"
     ]
    }
   ],
   "execution_count": 16
  },
  {
   "metadata": {
    "ExecuteTime": {
     "end_time": "2025-01-06T12:25:04.968414Z",
     "start_time": "2025-01-06T12:25:04.957032Z"
    }
   },
   "cell_type": "code",
   "source": [
    "#  第四题\n",
    "import random\n",
    "\n",
    "f = np.array([1, 2, 3, 4, 127], dtype=np.int8)\n",
    "print(f.itemsize)  # 1字节\n",
    "print(f.dtype)\n",
    "f[4] = f[4] + 1\n",
    "# f[4]  # 溢出\n",
    "\n",
    "f1 = f.astype(np.int64)\n",
    "print(f1.dtype)\n",
    "print(f1.itemsize)\n",
    "print(round(random.random(), 2))\n",
    "arr = np.array([random.random() for _ in range(10)])\n",
    "print(arr)\n",
    "print(arr.itemsize)\n",
    "print(arr.dtype)\n",
    "print(np.round(arr, 2))"
   ],
   "id": "a1a93bba01dff7bb",
   "outputs": [
    {
     "name": "stdout",
     "output_type": "stream",
     "text": [
      "1\n",
      "int8\n",
      "int64\n",
      "8\n",
      "0.9\n",
      "[0.01881145 0.27009757 0.91653923 0.03038046 0.64487586 0.55540659\n",
      " 0.96650984 0.89957584 0.14264792 0.76547804]\n",
      "8\n",
      "float64\n",
      "[0.02 0.27 0.92 0.03 0.64 0.56 0.97 0.9  0.14 0.77]\n"
     ]
    }
   ],
   "execution_count": 20
  },
  {
   "metadata": {
    "ExecuteTime": {
     "end_time": "2025-01-06T12:39:37.986514Z",
     "start_time": "2025-01-06T12:39:37.916529Z"
    }
   },
   "cell_type": "code",
   "source": [
    "t1 = np.arange(24).reshape((6,4))\n",
    "print(t1)\n",
    "t2 = t1.tolist()\n",
    "print(t1+2)\n",
    "print(t1*2)\n",
    "print(t1/2)\n",
    "print('-'*50)\n",
    "t3 = np.arange(100,124).reshape((6,4)) # 同型ndarray可以运算\n",
    "print(t1+t3)\n",
    "print(t1*t3)\n",
    "t1 = t1.reshape((4,6))\n",
    "t4 = np.arange(6).reshape((1,6))\n",
    "print(t4.shape)\n",
    "print(t1-t4)\n",
    "t5 = np.arange(4).reshape((4,1))\n",
    "print(t1-t5)\n",
    "print('-'*50)\n",
    "a = np.arange(24).reshape((2,3,4))\n",
    "b = np.arange(12).reshape((1,3,4))\n",
    "a-b  # ndim相同,支持某一轴的size不同，但其中一个ndarary的size为1"
   ],
   "id": "a863af2fd820a8e3",
   "outputs": [
    {
     "name": "stdout",
     "output_type": "stream",
     "text": [
      "[[ 0  1  2  3]\n",
      " [ 4  5  6  7]\n",
      " [ 8  9 10 11]\n",
      " [12 13 14 15]\n",
      " [16 17 18 19]\n",
      " [20 21 22 23]]\n",
      "[[ 2  3  4  5]\n",
      " [ 6  7  8  9]\n",
      " [10 11 12 13]\n",
      " [14 15 16 17]\n",
      " [18 19 20 21]\n",
      " [22 23 24 25]]\n",
      "[[ 0  2  4  6]\n",
      " [ 8 10 12 14]\n",
      " [16 18 20 22]\n",
      " [24 26 28 30]\n",
      " [32 34 36 38]\n",
      " [40 42 44 46]]\n",
      "[[ 0.   0.5  1.   1.5]\n",
      " [ 2.   2.5  3.   3.5]\n",
      " [ 4.   4.5  5.   5.5]\n",
      " [ 6.   6.5  7.   7.5]\n",
      " [ 8.   8.5  9.   9.5]\n",
      " [10.  10.5 11.  11.5]]\n",
      "--------------------------------------------------\n",
      "[[100 102 104 106]\n",
      " [108 110 112 114]\n",
      " [116 118 120 122]\n",
      " [124 126 128 130]\n",
      " [132 134 136 138]\n",
      " [140 142 144 146]]\n",
      "[[   0  101  204  309]\n",
      " [ 416  525  636  749]\n",
      " [ 864  981 1100 1221]\n",
      " [1344 1469 1596 1725]\n",
      " [1856 1989 2124 2261]\n",
      " [2400 2541 2684 2829]]\n",
      "(1, 6)\n",
      "[[ 0  0  0  0  0  0]\n",
      " [ 6  6  6  6  6  6]\n",
      " [12 12 12 12 12 12]\n",
      " [18 18 18 18 18 18]]\n",
      "[[ 0  1  2  3  4  5]\n",
      " [ 5  6  7  8  9 10]\n",
      " [10 11 12 13 14 15]\n",
      " [15 16 17 18 19 20]]\n",
      "--------------------------------------------------\n"
     ]
    },
    {
     "data": {
      "text/plain": [
       "array([[[ 0,  0,  0,  0],\n",
       "        [ 0,  0,  0,  0],\n",
       "        [ 0,  0,  0,  0]],\n",
       "\n",
       "       [[12, 12, 12, 12],\n",
       "        [12, 12, 12, 12],\n",
       "        [12, 12, 12, 12]]])"
      ]
     },
     "execution_count": 27,
     "metadata": {},
     "output_type": "execute_result"
    }
   ],
   "execution_count": 27
  },
  {
   "metadata": {
    "ExecuteTime": {
     "end_time": "2025-01-06T12:54:22.207337Z",
     "start_time": "2025-01-06T12:54:22.189857Z"
    }
   },
   "cell_type": "code",
   "source": [
    "# 第五题\n",
    "m = np.arange(10)\n",
    "print(m[0],m)\n",
    "print(m[2:])\n",
    "print(m[2:8:2])  # 类似于list的切片\n",
    "t1 = np.arange(24).reshape((4,6))\n",
    "print(t1)\n",
    "print(t1[1])\n",
    "print(t1[1:])\n",
    "print(t1[1:3, :])  # 逗号后面是列\n",
    "print(t1[[0,2,3]])  # 不连续的行\n",
    "\n",
    "print(t1[:,1])\n",
    "print(t1[[0,1,1],[0,2,3]])  # 第0行第0个，第1行第2个， 第1行第3个"
   ],
   "id": "31c1b2cabb8718e9",
   "outputs": [
    {
     "name": "stdout",
     "output_type": "stream",
     "text": [
      "0 [0 1 2 3 4 5 6 7 8 9]\n",
      "[2 3 4 5 6 7 8 9]\n",
      "[2 4 6]\n",
      "[[ 0  1  2  3  4  5]\n",
      " [ 6  7  8  9 10 11]\n",
      " [12 13 14 15 16 17]\n",
      " [18 19 20 21 22 23]]\n",
      "[ 6  7  8  9 10 11]\n",
      "[[ 6  7  8  9 10 11]\n",
      " [12 13 14 15 16 17]\n",
      " [18 19 20 21 22 23]]\n",
      "[[ 6  7  8  9 10 11]\n",
      " [12 13 14 15 16 17]]\n",
      "[[ 0  1  2  3  4  5]\n",
      " [12 13 14 15 16 17]\n",
      " [18 19 20 21 22 23]]\n",
      "[ 1  7 13 19]\n",
      "[0 8 9]\n"
     ]
    }
   ],
   "execution_count": 35
  },
  {
   "metadata": {
    "ExecuteTime": {
     "end_time": "2025-01-06T13:00:15.882457Z",
     "start_time": "2025-01-06T13:00:15.875398Z"
    }
   },
   "cell_type": "code",
   "source": [
    "# 第五题--修改\n",
    "t = np.arange(24).reshape((4,6))\n",
    "print(t)\n",
    "t = t.clip(10,18)  # 允许的值在10~18内，若小于10则改为10，若大于18则改为18\n",
    "print(t)\n",
    "t = np.arange(24).reshape((4,6))\n",
    "print(t<10)\n",
    "score = np.array([[80, 88], [82, 81], [75, 81]])\n",
    "print(score)\n",
    "result = np.where(score < 80, True, False)  # 三目运算符,类似于C的？：\n",
    "print(result)"
   ],
   "id": "506d58981c78b303",
   "outputs": [
    {
     "name": "stdout",
     "output_type": "stream",
     "text": [
      "[[ 0  1  2  3  4  5]\n",
      " [ 6  7  8  9 10 11]\n",
      " [12 13 14 15 16 17]\n",
      " [18 19 20 21 22 23]]\n",
      "[[10 10 10 10 10 10]\n",
      " [10 10 10 10 10 11]\n",
      " [12 13 14 15 16 17]\n",
      " [18 18 18 18 18 18]]\n",
      "[[ True  True  True  True  True  True]\n",
      " [ True  True  True  True False False]\n",
      " [False False False False False False]\n",
      " [False False False False False False]]\n",
      "[[80 88]\n",
      " [82 81]\n",
      " [75 81]]\n",
      "[[False False]\n",
      " [False False]\n",
      " [ True False]]\n"
     ]
    }
   ],
   "execution_count": 39
  },
  {
   "metadata": {
    "ExecuteTime": {
     "end_time": "2025-01-06T13:11:15.693514Z",
     "start_time": "2025-01-06T13:11:15.674490Z"
    }
   },
   "cell_type": "code",
   "source": [
    "# 第六题\n",
    "a = np.array([[1,2,3],[4,5,6]])\n",
    "print(a)\n",
    "print(np.append(a,[7,8,9]))  # flatten了\n",
    "print(a)  # a没变\n",
    "print(np.append(a, [[7, 8, 9]], axis=0))\n",
    "print(a)\n",
    "print(np.append(a, [[5, 5, 5], [7, 8, 9]], axis=1))\n",
    "print(a)\n",
    "\n",
    "# insert插入\n",
    "a = np.array([[1, 2], [3, 4], [5, 6]])\n",
    "print(a)\n",
    "print(np.insert(a, 1, [11, 22]))\n",
    "print(np.insert(a, 1, [11, 12], axis=0))  #那个轴插入，哪个轴size变大\n",
    "print(np.insert(a, 1, 11, axis=0))\n",
    "print(np.insert(a, 1, [1, 2, 5], axis=1))\n",
    "\n",
    "# 删除\n",
    "a = np.arange(12).reshape(3, 4)\n",
    "print(np.delete(a, 5))  # 先展成一维，再删除\n",
    "print(a)\n",
    "print(np.delete(a, 1, axis=0))\n",
    "print(np.delete(a, 1, axis=1))\n",
    "\n",
    "# unique\n",
    "a = np.array([5, 2, 6, 2, 7, 5, 6, 9, 8, 2])\n",
    "u, indices = np.unique(a, return_inverse=True)\n",
    "print(u)\n",
    "print(indices)"
   ],
   "id": "3aa455e345bc6a5",
   "outputs": [
    {
     "name": "stdout",
     "output_type": "stream",
     "text": [
      "[[1 2 3]\n",
      " [4 5 6]]\n",
      "[1 2 3 4 5 6 7 8 9]\n",
      "[[1 2 3]\n",
      " [4 5 6]]\n",
      "[[1 2 3]\n",
      " [4 5 6]\n",
      " [7 8 9]]\n",
      "[[1 2 3]\n",
      " [4 5 6]]\n",
      "[[1 2 3 5 5 5]\n",
      " [4 5 6 7 8 9]]\n",
      "[[1 2 3]\n",
      " [4 5 6]]\n",
      "[[1 2]\n",
      " [3 4]\n",
      " [5 6]]\n",
      "[ 1 11 22  2  3  4  5  6]\n",
      "[[ 1  2]\n",
      " [11 12]\n",
      " [ 3  4]\n",
      " [ 5  6]]\n",
      "[[ 1  2]\n",
      " [11 11]\n",
      " [ 3  4]\n",
      " [ 5  6]]\n",
      "[[1 1 2]\n",
      " [3 2 4]\n",
      " [5 5 6]]\n",
      "[ 0  1  2  3  4  6  7  8  9 10 11]\n",
      "[[ 0  1  2  3]\n",
      " [ 4  5  6  7]\n",
      " [ 8  9 10 11]]\n",
      "[[ 0  1  2  3]\n",
      " [ 8  9 10 11]]\n",
      "[[ 0  2  3]\n",
      " [ 4  6  7]\n",
      " [ 8 10 11]]\n",
      "[2 5 6 7 8 9]\n",
      "[1 0 2 0 3 1 2 5 4 0]\n"
     ]
    }
   ],
   "execution_count": 45
  },
  {
   "metadata": {
    "ExecuteTime": {
     "end_time": "2025-01-06T13:13:09.444591Z",
     "start_time": "2025-01-06T13:13:09.429315Z"
    }
   },
   "cell_type": "code",
   "source": [
    "# numpy数学计算\n",
    "score = np.array([[80, 88], [82, 81], [75, 81]])\n",
    "print(score)\n",
    "# 1. 获取所有数据最大值\n",
    "result = np.max(score)\n",
    "print(result)\n",
    "# 2. 获取某一个轴上的数据最大值，对应的轴就消失\n",
    "result = np.max(score, axis=1)\n",
    "print(result)\n",
    "# 3. 获取最小值\n",
    "result = np.min(score)\n",
    "print(result)\n",
    "# 4. 获取某一个轴上的数据最小值\n",
    "result = np.min(score, axis=0)\n",
    "print(result)\n",
    "# 5. 数据的比较\n",
    "result = np.maximum([-2, -1, 0, 1, 2], 0)  # 第一个参数中的每一个数与第二个参数比较返回大的\n",
    "print(result)\n",
    "result = np.minimum([-2, -1, 0, 1, 2], 0)  # 第一个参数中的每一个数与第二个参数比较返回小的\n",
    "print(result)\n",
    "result = np.maximum([-2, -1, 4, 1, 2], [1, 2, 3, 4, 5])\n",
    "print(result)\n",
    "result = np.mean(score)  # 获取所有数据的平均值\n",
    "print(result)\n",
    "result = np.mean(score, axis=0)  # 获取某一行或者某一列的平均值\n",
    "print(result)\n",
    "# 7. 求前缀和\n",
    "arr = np.array([[1, 2, 3], [4, 5, 6]])\n",
    "print(arr)\n",
    "print(arr.cumsum(axis=0))"
   ],
   "id": "45a30da670770c20",
   "outputs": [
    {
     "name": "stdout",
     "output_type": "stream",
     "text": [
      "[[80 88]\n",
      " [82 81]\n",
      " [75 81]]\n",
      "88\n",
      "[88 82 81]\n",
      "75\n",
      "[75 81]\n",
      "[0 0 0 1 2]\n",
      "[-2 -1  0  0  0]\n",
      "[1 2 4 4 5]\n",
      "81.16666666666667\n",
      "[79.         83.33333333]\n",
      "[[1 2 3]\n",
      " [4 5 6]]\n",
      "[[1 2 3]\n",
      " [5 7 9]]\n"
     ]
    }
   ],
   "execution_count": 46
  }
 ],
 "metadata": {
  "kernelspec": {
   "display_name": "Python 3",
   "language": "python",
   "name": "python3"
  },
  "language_info": {
   "codemirror_mode": {
    "name": "ipython",
    "version": 2
   },
   "file_extension": ".py",
   "mimetype": "text/x-python",
   "name": "python",
   "nbconvert_exporter": "python",
   "pygments_lexer": "ipython2",
   "version": "2.7.6"
  }
 },
 "nbformat": 4,
 "nbformat_minor": 5
}
